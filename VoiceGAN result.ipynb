{
 "cells": [
  {
   "cell_type": "markdown",
   "metadata": {
    "deletable": true,
    "editable": true
   },
   "source": [
    "## VoiceGAN result demo\n",
    "\n",
    "A-AB-ABA\n",
    "![result1](A-AB-ABA1.gif)\n",
    "\n",
    "B-BA-BAB\n",
    "![result1](B-BA-BAB1.gif)"
   ]
  },
  {
   "cell_type": "markdown",
   "metadata": {
    "deletable": true,
    "editable": true
   },
   "source": []
  },
  {
   "cell_type": "code",
   "execution_count": 4,
   "metadata": {
    "collapsed": false,
    "deletable": true,
    "editable": true
   },
   "outputs": [
    {
     "ename": "ImportError",
     "evalue": "No module named scipy.io",
     "output_type": "error",
     "traceback": [
      "\u001b[0;31m---------------------------------------------------------------------------\u001b[0m",
      "\u001b[0;31mImportError\u001b[0m                               Traceback (most recent call last)",
      "\u001b[0;32m<ipython-input-4-29cb23c108ab>\u001b[0m in \u001b[0;36m<module>\u001b[0;34m()\u001b[0m\n\u001b[0;32m----> 1\u001b[0;31m \u001b[0;32mfrom\u001b[0m \u001b[0mscipy\u001b[0m\u001b[0;34m.\u001b[0m\u001b[0mio\u001b[0m \u001b[0;32mimport\u001b[0m \u001b[0mwavfile\u001b[0m\u001b[0;34m\u001b[0m\u001b[0m\n\u001b[0m\u001b[1;32m      2\u001b[0m \u001b[0;31m## A-AB-ABA\u001b[0m\u001b[0;34m\u001b[0m\u001b[0;34m\u001b[0m\u001b[0m\n\u001b[1;32m      3\u001b[0m \u001b[0mA_path\u001b[0m \u001b[0;34m=\u001b[0m \u001b[0;34m'./A-AB-ABA/XA/'\u001b[0m\u001b[0;34m\u001b[0m\u001b[0m\n\u001b[1;32m      4\u001b[0m \u001b[0mAB_path\u001b[0m \u001b[0;34m=\u001b[0m \u001b[0;34m'./A-AB-ABA/XAB/'\u001b[0m\u001b[0;34m\u001b[0m\u001b[0m\n\u001b[1;32m      5\u001b[0m \u001b[0mABA_path\u001b[0m \u001b[0;34m=\u001b[0m \u001b[0;34m'./A-AB-ABA/XABA/'\u001b[0m\u001b[0;34m\u001b[0m\u001b[0m\n",
      "\u001b[0;31mImportError\u001b[0m: No module named scipy.io"
     ]
    }
   ],
   "source": [
    "    from scipy.io import wavfile    \n",
    "    ## A-AB-ABA\n",
    "    A_path = './A-AB-ABA/XA/'\n",
    "    AB_path = './A-AB-ABA/XAB/'\n",
    "    ABA_path = './A-AB-ABA/XABA/'\n",
    "    # Random select one\n",
    "    for i in range(5):\n",
    "        print(\"A-AB-ABA Example\", str(i),\": Male, Transfered Female, Twice Transfered Male\")\n",
    "        Asrc_path = A_path + str(i) + '.wav'\n",
    "        fs, src_waveform = wavfile.read(Asrc_path)\n",
    "        IPython.display.display(Audio(src_waveform, rate=fs))\n",
    "        \n",
    "        ABsrc_path = AB_path + str(i) + '.wav'\n",
    "        fs, src_waveform = wavfile.read(ABsrc_path)\n",
    "        IPython.display.display(Audio(src_waveform, rate=fs))\n",
    "        \n",
    "        ABAsrc_path = ABA_path + str(i) + '.wav'\n",
    "        fs, src_waveform = wavfile.read(ABAsrc_path)\n",
    "        IPython.display.display(Audio(src_waveform, rate=fs))\n",
    "        \n",
    "    # B-BA-BAB\n",
    "    B_path = './A-AB-ABA/XB/'\n",
    "    BA_path = './A-AB-ABA/XBA/'\n",
    "    BAB_path = './A-AB-ABA/XBAB/'\n",
    "    # Random select one\n",
    "    for i in range(5):\n",
    "        print(\"B-BA-BAB Example\", str(i), \": Female, Transfered Male, Twice Transfered Female\")\n",
    "        fs, src_waveform = wavfile.read(Asrc_path)\n",
    "        IPython.display.display(Audio(src_waveform, rate=fs))\n",
    "        \n",
    "        ABsrc_path = AB_path + str(i) + '.wav'\n",
    "        fs, src_waveform = wavfile.read(ABsrc_path)\n",
    "        IPython.display.display(Audio(src_waveform, rate=fs))\n",
    "        \n",
    "        ABAsrc_path = ABA_path + str(i) + '.wav'\n",
    "        fs, src_waveform = wavfile.read(ABAsrc_path)\n",
    "        IPython.display.display(Audio(src_waveform, rate=fs))\n",
    "    \n",
    "    \n",
    "    "
   ]
  },
  {
   "cell_type": "code",
   "execution_count": null,
   "metadata": {
    "collapsed": true
   },
   "outputs": [],
   "source": []
  }
 ],
 "metadata": {
  "kernelspec": {
   "display_name": "Python 2",
   "language": "python",
   "name": "python2"
  },
  "language_info": {
   "codemirror_mode": {
    "name": "ipython",
    "version": 2
   },
   "file_extension": ".py",
   "mimetype": "text/x-python",
   "name": "python",
   "nbconvert_exporter": "python",
   "pygments_lexer": "ipython2",
   "version": "2.7.9"
  }
 },
 "nbformat": 4,
 "nbformat_minor": 2
}
